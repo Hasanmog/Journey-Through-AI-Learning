{
 "cells": [
  {
   "cell_type": "markdown",
   "metadata": {},
   "source": [
    "https://www.datacamp.com/tutorial/decision-tree-classification-python"
   ]
  },
  {
   "cell_type": "code",
   "execution_count": 16,
   "metadata": {},
   "outputs": [],
   "source": [
    "import pandas as pd \n",
    "from sklearn.tree import DecisionTreeClassifier\n",
    "import matplotlib.pyplot as plt\n",
    "from sklearn.model_selection import train_test_split\n",
    "from sklearn import metrics"
   ]
  },
  {
   "cell_type": "code",
   "execution_count": 4,
   "metadata": {},
   "outputs": [],
   "source": [
    "dataset = pd.read_csv(\"../Datasets/diabetes.csv\")"
   ]
  },
  {
   "cell_type": "code",
   "execution_count": 5,
   "metadata": {},
   "outputs": [
    {
     "data": {
      "text/html": [
       "<div>\n",
       "<style scoped>\n",
       "    .dataframe tbody tr th:only-of-type {\n",
       "        vertical-align: middle;\n",
       "    }\n",
       "\n",
       "    .dataframe tbody tr th {\n",
       "        vertical-align: top;\n",
       "    }\n",
       "\n",
       "    .dataframe thead th {\n",
       "        text-align: right;\n",
       "    }\n",
       "</style>\n",
       "<table border=\"1\" class=\"dataframe\">\n",
       "  <thead>\n",
       "    <tr style=\"text-align: right;\">\n",
       "      <th></th>\n",
       "      <th>Pregnancies</th>\n",
       "      <th>Glucose</th>\n",
       "      <th>BloodPressure</th>\n",
       "      <th>SkinThickness</th>\n",
       "      <th>Insulin</th>\n",
       "      <th>BMI</th>\n",
       "      <th>DiabetesPedigreeFunction</th>\n",
       "      <th>Age</th>\n",
       "      <th>Outcome</th>\n",
       "    </tr>\n",
       "  </thead>\n",
       "  <tbody>\n",
       "    <tr>\n",
       "      <th>0</th>\n",
       "      <td>6</td>\n",
       "      <td>148</td>\n",
       "      <td>72</td>\n",
       "      <td>35</td>\n",
       "      <td>0</td>\n",
       "      <td>33.6</td>\n",
       "      <td>0.627</td>\n",
       "      <td>50</td>\n",
       "      <td>1</td>\n",
       "    </tr>\n",
       "    <tr>\n",
       "      <th>1</th>\n",
       "      <td>1</td>\n",
       "      <td>85</td>\n",
       "      <td>66</td>\n",
       "      <td>29</td>\n",
       "      <td>0</td>\n",
       "      <td>26.6</td>\n",
       "      <td>0.351</td>\n",
       "      <td>31</td>\n",
       "      <td>0</td>\n",
       "    </tr>\n",
       "    <tr>\n",
       "      <th>2</th>\n",
       "      <td>8</td>\n",
       "      <td>183</td>\n",
       "      <td>64</td>\n",
       "      <td>0</td>\n",
       "      <td>0</td>\n",
       "      <td>23.3</td>\n",
       "      <td>0.672</td>\n",
       "      <td>32</td>\n",
       "      <td>1</td>\n",
       "    </tr>\n",
       "    <tr>\n",
       "      <th>3</th>\n",
       "      <td>1</td>\n",
       "      <td>89</td>\n",
       "      <td>66</td>\n",
       "      <td>23</td>\n",
       "      <td>94</td>\n",
       "      <td>28.1</td>\n",
       "      <td>0.167</td>\n",
       "      <td>21</td>\n",
       "      <td>0</td>\n",
       "    </tr>\n",
       "    <tr>\n",
       "      <th>4</th>\n",
       "      <td>0</td>\n",
       "      <td>137</td>\n",
       "      <td>40</td>\n",
       "      <td>35</td>\n",
       "      <td>168</td>\n",
       "      <td>43.1</td>\n",
       "      <td>2.288</td>\n",
       "      <td>33</td>\n",
       "      <td>1</td>\n",
       "    </tr>\n",
       "  </tbody>\n",
       "</table>\n",
       "</div>"
      ],
      "text/plain": [
       "   Pregnancies  Glucose  BloodPressure  SkinThickness  Insulin   BMI  \\\n",
       "0            6      148             72             35        0  33.6   \n",
       "1            1       85             66             29        0  26.6   \n",
       "2            8      183             64              0        0  23.3   \n",
       "3            1       89             66             23       94  28.1   \n",
       "4            0      137             40             35      168  43.1   \n",
       "\n",
       "   DiabetesPedigreeFunction  Age  Outcome  \n",
       "0                     0.627   50        1  \n",
       "1                     0.351   31        0  \n",
       "2                     0.672   32        1  \n",
       "3                     0.167   21        0  \n",
       "4                     2.288   33        1  "
      ]
     },
     "execution_count": 5,
     "metadata": {},
     "output_type": "execute_result"
    }
   ],
   "source": [
    "dataset.head()"
   ]
  },
  {
   "cell_type": "code",
   "execution_count": 12,
   "metadata": {},
   "outputs": [],
   "source": [
    "target = dataset['Outcome']\n",
    "features = dataset.drop('Outcome' , axis = 1)"
   ]
  },
  {
   "cell_type": "code",
   "execution_count": 13,
   "metadata": {},
   "outputs": [],
   "source": [
    "X_train ,  X_test , y_train ,  y_test = train_test_split(features , target , shuffle = True , train_size = 0.7 , random_state = 1)"
   ]
  },
  {
   "cell_type": "code",
   "execution_count": 14,
   "metadata": {},
   "outputs": [
    {
     "data": {
      "text/plain": [
       "88     1\n",
       "467    0\n",
       "550    0\n",
       "147    0\n",
       "481    0\n",
       "      ..\n",
       "645    0\n",
       "715    1\n",
       "72     1\n",
       "235    1\n",
       "37     1\n",
       "Name: Outcome, Length: 537, dtype: int64"
      ]
     },
     "execution_count": 14,
     "metadata": {},
     "output_type": "execute_result"
    }
   ],
   "source": [
    "y_train"
   ]
  },
  {
   "cell_type": "code",
   "execution_count": 31,
   "metadata": {},
   "outputs": [],
   "source": [
    "classifier = DecisionTreeClassifier(criterion= 'entropy' )\n",
    "\n",
    "classifier.fit(X_train , y_train)\n",
    "\n",
    "y_pred = classifier.predict(X_test)"
   ]
  },
  {
   "cell_type": "code",
   "execution_count": 32,
   "metadata": {},
   "outputs": [
    {
     "data": {
      "text/plain": [
       "0.7316017316017316"
      ]
     },
     "execution_count": 32,
     "metadata": {},
     "output_type": "execute_result"
    }
   ],
   "source": [
    "accuracy = metrics.accuracy_score(y_test , y_pred)\n",
    "accuracy"
   ]
  },
  {
   "cell_type": "markdown",
   "metadata": {},
   "source": [
    "LazyPredict to get best algorithm for best performance"
   ]
  },
  {
   "cell_type": "code",
   "execution_count": 34,
   "metadata": {},
   "outputs": [],
   "source": [
    "from lazypredict.Supervised import LazyClassifier"
   ]
  },
  {
   "cell_type": "code",
   "execution_count": null,
   "metadata": {},
   "outputs": [],
   "source": [
    "clf = LazyClassifier(verbose=0 , ignore_warnings=True , custom_metric=None)\n",
    "models , pred = clf.fit(X_train , X_test , y_train , y_test)"
   ]
  },
  {
   "cell_type": "code",
   "execution_count": 36,
   "metadata": {},
   "outputs": [
    {
     "name": "stdout",
     "output_type": "stream",
     "text": [
      "                               Accuracy  Balanced Accuracy  ROC AUC  F1 Score  \\\n",
      "Model                                                                           \n",
      "RandomForestClassifier             0.81               0.78     0.78      0.81   \n",
      "NearestCentroid                    0.78               0.78     0.78      0.78   \n",
      "KNeighborsClassifier               0.79               0.76     0.76      0.79   \n",
      "BaggingClassifier                  0.80               0.76     0.76      0.79   \n",
      "ExtraTreesClassifier               0.78               0.75     0.75      0.78   \n",
      "GaussianNB                         0.78               0.75     0.75      0.78   \n",
      "SVC                                0.79               0.75     0.75      0.78   \n",
      "BernoulliNB                        0.76               0.75     0.75      0.76   \n",
      "AdaBoostClassifier                 0.78               0.74     0.74      0.78   \n",
      "LGBMClassifier                     0.78               0.74     0.74      0.77   \n",
      "LinearSVC                          0.78               0.74     0.74      0.78   \n",
      "LinearDiscriminantAnalysis         0.78               0.74     0.74      0.78   \n",
      "LogisticRegression                 0.78               0.74     0.74      0.78   \n",
      "NuSVC                              0.78               0.74     0.74      0.78   \n",
      "XGBClassifier                      0.77               0.74     0.74      0.76   \n",
      "RidgeClassifier                    0.78               0.73     0.73      0.77   \n",
      "CalibratedClassifierCV             0.78               0.73     0.73      0.77   \n",
      "RidgeClassifierCV                  0.78               0.73     0.73      0.77   \n",
      "QuadraticDiscriminantAnalysis      0.75               0.72     0.72      0.75   \n",
      "ExtraTreeClassifier                0.71               0.69     0.69      0.71   \n",
      "LabelPropagation                   0.72               0.68     0.68      0.72   \n",
      "LabelSpreading                     0.72               0.68     0.68      0.72   \n",
      "SGDClassifier                      0.73               0.67     0.67      0.71   \n",
      "DecisionTreeClassifier             0.71               0.66     0.66      0.70   \n",
      "PassiveAggressiveClassifier        0.70               0.63     0.63      0.67   \n",
      "Perceptron                         0.59               0.52     0.52      0.57   \n",
      "DummyClassifier                    0.63               0.50     0.50      0.49   \n",
      "\n",
      "                               Time Taken  \n",
      "Model                                      \n",
      "RandomForestClassifier               0.42  \n",
      "NearestCentroid                      0.02  \n",
      "KNeighborsClassifier                 0.07  \n",
      "BaggingClassifier                    0.10  \n",
      "ExtraTreesClassifier                 0.23  \n",
      "GaussianNB                           0.04  \n",
      "SVC                                  0.03  \n",
      "BernoulliNB                          0.05  \n",
      "AdaBoostClassifier                   0.74  \n",
      "LGBMClassifier                       0.14  \n",
      "LinearSVC                            0.06  \n",
      "LinearDiscriminantAnalysis           0.09  \n",
      "LogisticRegression                   0.06  \n",
      "NuSVC                                0.04  \n",
      "XGBClassifier                        1.27  \n",
      "RidgeClassifier                      0.03  \n",
      "CalibratedClassifierCV               0.13  \n",
      "RidgeClassifierCV                    0.04  \n",
      "QuadraticDiscriminantAnalysis        0.04  \n",
      "ExtraTreeClassifier                  0.02  \n",
      "LabelPropagation                     0.14  \n",
      "LabelSpreading                       0.10  \n",
      "SGDClassifier                        0.03  \n",
      "DecisionTreeClassifier               0.03  \n",
      "PassiveAggressiveClassifier          0.05  \n",
      "Perceptron                           0.02  \n",
      "DummyClassifier                      0.02  \n"
     ]
    }
   ],
   "source": [
    "print(models)"
   ]
  }
 ],
 "metadata": {
  "kernelspec": {
   "display_name": "algo",
   "language": "python",
   "name": "python3"
  },
  "language_info": {
   "codemirror_mode": {
    "name": "ipython",
    "version": 3
   },
   "file_extension": ".py",
   "mimetype": "text/x-python",
   "name": "python",
   "nbconvert_exporter": "python",
   "pygments_lexer": "ipython3",
   "version": "3.10.12"
  }
 },
 "nbformat": 4,
 "nbformat_minor": 2
}
